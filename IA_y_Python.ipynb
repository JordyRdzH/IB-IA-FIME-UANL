{
  "nbformat": 4,
  "nbformat_minor": 0,
  "metadata": {
    "colab": {
      "name": "IA y Python.ipynb",
      "provenance": [],
      "authorship_tag": "ABX9TyMPbK/Y/inSexPxkjT/F7Wf",
      "include_colab_link": true
    },
    "kernelspec": {
      "name": "python3",
      "display_name": "Python 3"
    },
    "language_info": {
      "name": "python"
    }
  },
  "cells": [
    {
      "cell_type": "markdown",
      "metadata": {
        "id": "view-in-github",
        "colab_type": "text"
      },
      "source": [
        "<a href=\"https://colab.research.google.com/github/JordyRdzH/IB-IA-FIME-UANL/blob/main/IA_y_Python.ipynb\" target=\"_parent\"><img src=\"https://colab.research.google.com/assets/colab-badge.svg\" alt=\"Open In Colab\"/></a>"
      ]
    },
    {
      "cell_type": "markdown",
      "metadata": {
        "id": "5aXBflkP_TJm"
      },
      "source": [
        "IA jueves 19 de agosto de 2021"
      ]
    },
    {
      "cell_type": "code",
      "metadata": {
        "colab": {
          "base_uri": "https://localhost:8080/"
        },
        "id": "lLAzYYIL91FT",
        "outputId": "cc63ae29-96d6-4841-bacc-1717a2f5b2a0"
      },
      "source": [
        "print(\"Hello World\")"
      ],
      "execution_count": 1,
      "outputs": [
        {
          "output_type": "stream",
          "text": [
            "Hello World!\n"
          ],
          "name": "stdout"
        }
      ]
    },
    {
      "cell_type": "code",
      "metadata": {
        "colab": {
          "base_uri": "https://localhost:8080/"
        },
        "id": "xxm914Xh-ABy",
        "outputId": "9d91f1e0-7eb0-4186-ddf3-13bf8158d650"
      },
      "source": [
        "# Primera parte del código\n",
        "\"\"\"Esto es un comentario\n",
        "    Nombre: Jordy Fabián Rodríguez Hinojosa\n",
        "\"\"\"\n",
        "msg= \"Esta es la clase de IA :3\"\n",
        "print(msg)"
      ],
      "execution_count": 3,
      "outputs": [
        {
          "output_type": "stream",
          "text": [
            "Esta es la clase de IA :3\n"
          ],
          "name": "stdout"
        }
      ]
    },
    {
      "cell_type": "code",
      "metadata": {
        "colab": {
          "base_uri": "https://localhost:8080/"
        },
        "id": "bt2k_TgB-sNN",
        "outputId": "72ddb008-c62d-4f36-bee0-1dd8e1ab6c41"
      },
      "source": [
        "x = 10 #entero\n",
        "y = \"Pancho\" #cadena de caracteres\n",
        "z= True #booleano\n",
        "print(x)\n",
        "print(y)\n",
        "print(z) "
      ],
      "execution_count": 4,
      "outputs": [
        {
          "output_type": "stream",
          "text": [
            "10\n",
            "Pancho\n",
            "True\n"
          ],
          "name": "stdout"
        }
      ]
    },
    {
      "cell_type": "code",
      "metadata": {
        "colab": {
          "base_uri": "https://localhost:8080/"
        },
        "id": "r2RdEI62_BAv",
        "outputId": "e738156a-6051-4bde-ae5a-456a5bdec09a"
      },
      "source": [
        "#Operaciones con variables\n",
        "x=5\n",
        "y=4\n",
        "z=22\n",
        "print(x+y+z)"
      ],
      "execution_count": 5,
      "outputs": [
        {
          "output_type": "stream",
          "text": [
            "31\n"
          ],
          "name": "stdout"
        }
      ]
    },
    {
      "cell_type": "code",
      "metadata": {
        "id": "BevdGo4u_LTx"
      },
      "source": [
        "# Ejemplos de datos\n",
        "x=\"Hola Mundo\" #str\n",
        "y=5 #int\n",
        "z=65.47 #float\n",
        "s=1j #complex\n",
        "a=['manzana','plátano','naranja'] #lista\n",
        "a=('manzana','plátano','naranja') #tupla\n",
        "c= True"
      ],
      "execution_count": 6,
      "outputs": []
    },
    {
      "cell_type": "code",
      "metadata": {
        "colab": {
          "base_uri": "https://localhost:8080/"
        },
        "id": "HHtgoUtv_8XD",
        "outputId": "464e17a7-0d4b-413d-a642-04daf39b1f8f"
      },
      "source": [
        "# Se puede cambiar un tipo de dato a otro\n",
        "\n",
        "x=str(3)\n",
        "y=int(3)\n",
        "z=float(3)\n",
        "print(x)\n",
        "print(y)\n",
        "print(z)\n",
        "\n",
        "#Verificar con type\n",
        "print(type(x))"
      ],
      "execution_count": 9,
      "outputs": [
        {
          "output_type": "stream",
          "text": [
            "3\n",
            "3\n",
            "3.0\n",
            "<class 'str'>\n"
          ],
          "name": "stdout"
        }
      ]
    },
    {
      "cell_type": "code",
      "metadata": {
        "colab": {
          "base_uri": "https://localhost:8080/"
        },
        "id": "iLHRMdStAkBW",
        "outputId": "869cc399-c461-405b-bd18-de6b13b2edd1"
      },
      "source": [
        "#Cadenas de caracteres\n",
        "a=\"Hi\"\n",
        "b='Holo prro'\n",
        "\n",
        "print(a)\n",
        "\n",
        "print(b)"
      ],
      "execution_count": 15,
      "outputs": [
        {
          "output_type": "stream",
          "text": [
            "Hi\n",
            "Holo prro\n"
          ],
          "name": "stdout"
        }
      ]
    },
    {
      "cell_type": "code",
      "metadata": {
        "id": "z3G9WtnoBYw_"
      },
      "source": [
        "#La función de len() te da el número de caracteres\n",
        "#Se pueden concatenar dos strings usando el operador +"
      ],
      "execution_count": null,
      "outputs": []
    },
    {
      "cell_type": "code",
      "metadata": {
        "colab": {
          "base_uri": "https://localhost:8080/"
        },
        "id": "yjT2OmLBBn2R",
        "outputId": "cf39bdde-51e3-4ac2-da72-f7b8ae43f2b3"
      },
      "source": [
        "#Los boleanos nos dan los verdaderos y falsos\n",
        "print(10>9)\n",
        "\n",
        "print(10==9)\n",
        "\n",
        "print(10<9)\n"
      ],
      "execution_count": 16,
      "outputs": [
        {
          "output_type": "stream",
          "text": [
            "True\n",
            "False\n",
            "False\n"
          ],
          "name": "stdout"
        }
      ]
    },
    {
      "cell_type": "code",
      "metadata": {
        "id": "guRRmLHgB9EZ"
      },
      "source": [
        "#Operadores Lógicos\n",
        "#Aritmeticos, asignación, comparación y lógicos\n",
        "print(21+2)\n",
        "#El módulo te da el residuo %, el exponencial es x ** y, x elevado a la y\n",
        "#Asignación, x +=3, es x=x+3, etcetera con los demas signos aritmeticos\n",
        "#Diferente de !=, igual == ,\n",
        "#Lógicos, el not() te da el contrario, si es false te da true\n",
        "\n"
      ],
      "execution_count": null,
      "outputs": []
    }
  ]
}