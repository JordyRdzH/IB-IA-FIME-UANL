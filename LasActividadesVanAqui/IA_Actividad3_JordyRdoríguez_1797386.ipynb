{
  "nbformat": 4,
  "nbformat_minor": 0,
  "metadata": {
    "colab": {
      "name": "IA_Actividad3_JordyRdoríguez_1797386.ipynb",
      "provenance": []
    },
    "kernelspec": {
      "name": "python3",
      "display_name": "Python 3"
    },
    "language_info": {
      "name": "python"
    }
  },
  "cells": [
    {
      "cell_type": "markdown",
      "metadata": {
        "id": "x4u9_-J57JTE"
      },
      "source": [
        "# Actividad 3. - Ejercicios de Introducción a Python - 2da Parte\n",
        "\n",
        "**Nombre:** Jordy Fabián Rodríguez Hinojosa                \n",
        "**Matrícula:** 1797386\n",
        "\n",
        "> *Inteligencia Artificial Jueves N4-N6*\n",
        "\n",
        "# Instrucciones\n",
        "La primera celda de su notebook deberá contener el título de la actividad, su nombre, matrícula y hora de clase. \n",
        "Para cada ejercicio realizar los comentarios necesarios para entender el funcionamiento de su código. \n",
        "Cada celda deberá ser ejecutada antes de guardar su archivo .ipynb.\n",
        "La versión final del notebook la guardarán en una carpeta con el nombre  \"LasActividadesVanAqui\" y el nombre de su notebook deberá tener la siguiente estructura: IA_Ejercicio2_Nombre_Matrícula, por ejemplo, \"IA_Ejercicio2_DanielLopez_1234567\".\n",
        "Como evidencia a esta actividad, subir un pdf con el link del ejercicio en su repositorio de GitHub. \n",
        "\n"
      ]
    },
    {
      "cell_type": "code",
      "metadata": {
        "colab": {
          "base_uri": "https://localhost:8080/"
        },
        "id": "mqRcaSfg-oH3",
        "outputId": "a8183e43-e5de-4a59-8788-87ccfe216c24"
      },
      "source": [
        "#Ejercicio 1\n",
        "#1.1 Piensa en 7 comidas diferente que te gusten. Implementa un programa que pregunte por las 7 comidas, las almacene en una lista y que posteriermente imprima cada una de ellas utilizando uno de los ciclos comentados en clase. \n",
        "\n",
        "#Declaramos Comidas como una lista\n",
        "Comidas = list ()\n",
        "\n",
        "#Almacenamos en una lista las comidas usando la función apppend y el ciclo for\n",
        "for y in range(1,8,):\n",
        "  Comidas.append(input(\"Comida Favorita [%d]: \" %y))\n",
        "\n",
        "#De una manera semejante, imprimimos la lista de Comidas usando un for\n",
        "for comida in Comidas:\n",
        "  print(comida)\n",
        "\n",
        "#1.2 Modifica el ejercicio 1.1 para que imprima cada una de las comidas favoritas junto con una oracición inicial: \"Una de mis comidas favoritas es [comida1]\".\n",
        "\n",
        "#Para lo anterior concatenamos variables e imprimimos la lista con un while\n",
        "i=0\n",
        "j=1\n",
        "while i<7:\n",
        "  print(\"Mi comida número %d es: \" %j + Comidas[i])\n",
        "  j+=1\n",
        "  i+=1 \n"
      ],
      "execution_count": 85,
      "outputs": [
        {
          "output_type": "stream",
          "name": "stdout",
          "text": [
            "Comida Favorita [1]: Tacos\n",
            "Comida Favorita [2]: Pizza\n",
            "Comida Favorita [3]: Hamburguesa\n",
            "Comida Favorita [4]: Fajita\n",
            "Comida Favorita [5]: Pollo\n",
            "Comida Favorita [6]: Pastel\n",
            "Comida Favorita [7]: Jícama\n",
            "Tacos\n",
            "Pizza\n",
            "Hamburguesa\n",
            "Fajita\n",
            "Pollo\n",
            "Pastel\n",
            "Jícama\n",
            "Mi comida número 1 es: Tacos\n",
            "Mi comida número 2 es: Pizza\n",
            "Mi comida número 3 es: Hamburguesa\n",
            "Mi comida número 4 es: Fajita\n",
            "Mi comida número 5 es: Pollo\n",
            "Mi comida número 6 es: Pastel\n",
            "Mi comida número 7 es: Jícama\n"
          ]
        }
      ]
    },
    {
      "cell_type": "code",
      "metadata": {
        "colab": {
          "base_uri": "https://localhost:8080/"
        },
        "id": "OKsV4YNAnTjT",
        "outputId": "303669c3-c267-4a87-ff3a-4bf240519bf0"
      },
      "source": [
        "#Ejercicio 2 Crear un juego de piedra, papel o tijera de dos jugadores. El programa preguntará por la opción del jugador 1 y la opción del jugador 2 y dará como resultado quien ganó el juego.\n",
        "\n",
        "while True: #Para hacer un bucle en para repetir el juego\n",
        "#Primero le preguntamos a los usuarios su elección y la almacenamos en una variable\n",
        "\n",
        "  Jugador1 = input(\"Jugador 1. Elige: Piedra, Papel o Tijera: \" )\n",
        "  Jugador2 = input(\"Jugador 2. Elige: Piedra, Papel o Tijera: \" )\n",
        "\n",
        "#Mostramos las elecciones de los jugadores\n",
        "\n",
        "  print(\"\\nEl Jugador 1 eligio: \" + Jugador1 + \"\\nEl Jugador 2 eligio: \" + Jugador2)\n",
        "\n",
        "#Usando condicionales establecemos el ganador y el perdedor de acuerdo a las reglas del juego\n",
        "\n",
        "\n",
        "  if Jugador1==Jugador2:#Cuando ambos eligen lo mismo\n",
        "    print(\"Es un Empate\")\n",
        "\n",
        "  elif Jugador1 == \"Piedra\":#Cuando el primero elige Piedra\n",
        "      if Jugador2 == \"Papel\":\n",
        "        print(\"El Jugador 2 es el ganador: \" +Jugador2 +\" vence a \" +Jugador1)\n",
        "      else:\n",
        "          print(\"El Jugador 1 es el ganador: \" +Jugador1 +\" vence a \" +Jugador2)\n",
        "\n",
        "  elif Jugador1 == \"Papel\":#Cuando el primero elige Papel\n",
        "      if Jugador2 == \"Tijera\":\n",
        "        print(\"El Jugador 2 es el ganador: \" +Jugador2 +\" vence a \" +Jugador1)\n",
        "      else:\n",
        "          print(\"El Jugador 1 es el ganador: \" +Jugador1 +\" vence a \" +Jugador2)\n",
        "\n",
        "  elif Jugador1 == \"Tijera\":#Cuando el primero elige Tijera\n",
        "      if Jugador2 == \"Piedra\":\n",
        "        print(\"El Jugador 2 es el ganador: \" +Jugador2 +\" vence a \" +Jugador1)\n",
        "      else:\n",
        "          print(\"El Jugador 1 es el ganador: \" +Jugador1 +\" vence a \" +Jugador2)\n",
        "#De la anterior manera se cubren todas las condiciones\n",
        "\n",
        "  Otra_ronda = input(\"¿Desea jugar otra vez: Si o No \\n\")#Si se elige Si, esto hace que se repita el while\n",
        "  if Otra_ronda == \"No\":\n",
        "    break#Break nos saca del bucle si se escribe No\n",
        "\n"
      ],
      "execution_count": 63,
      "outputs": [
        {
          "name": "stdout",
          "output_type": "stream",
          "text": [
            "Jugador 1. Elige: Piedra, Papel o Tijera: Tijera\n",
            "Jugador 2. Elige: Piedra, Papel o Tijera: Papel\n",
            "\n",
            "El Jugador 1 eligio: Tijera\n",
            "El Jugador 2 eligio: Papel\n",
            "El Jugador 1 es el ganador: Tijera vence a Papel\n",
            "¿Desea jugar otra vez: Si o No \n",
            "Si\n",
            "Jugador 1. Elige: Piedra, Papel o Tijera: Papel\n",
            "Jugador 2. Elige: Piedra, Papel o Tijera: Papel\n",
            "\n",
            "El Jugador 1 eligio: Papel\n",
            "El Jugador 2 eligio: Papel\n",
            "Es un Empate\n",
            "¿Desea jugar otra vez: Si o No \n",
            "Si\n",
            "Jugador 1. Elige: Piedra, Papel o Tijera: Piedra\n",
            "Jugador 2. Elige: Piedra, Papel o Tijera: Papel\n",
            "\n",
            "El Jugador 1 eligio: Piedra\n",
            "El Jugador 2 eligio: Papel\n",
            "El Jugador 2 es el ganador: Papel vence a Piedra\n",
            "¿Desea jugar otra vez: Si o No \n",
            "No\n"
          ]
        }
      ]
    },
    {
      "cell_type": "code",
      "metadata": {
        "colab": {
          "base_uri": "https://localhost:8080/"
        },
        "id": "oOHabySgArA1",
        "outputId": "9d7d218b-a4a1-4c1c-ae24-b7b9e46820e1"
      },
      "source": [
        "\"\"\"Ejercicio 3\n",
        "Implementar un programa que imprima el siguiente patron:\n",
        "123456\n",
        "12345\n",
        "1234\n",
        "123\n",
        "12\n",
        "1\n",
        "12\n",
        "123\n",
        "1234\n",
        "12345\n",
        "123456\n",
        "\"\"\"\n",
        "#En primer lugar generamos una lista con listas de los elemetos deseados\n",
        "P1 = [[1], [1, 2], [1, 2, 3], [1, 2, 3, 4], [1, 2, 3, 4, 5], [1, 2, 3, 4, 5, 6]]\n",
        "\n",
        "\n",
        "for i in reversed(P1): #Imprimimos la lista en orden inverso\n",
        "  print(*i, sep=\"\")#Evitamos que se impriman corchetes y separaciones\n",
        "\n",
        "for j in P1[1::]:#Para no repetir, imrprimimos la lista comenzando por el segundo elemento\n",
        "  print(*j, sep=\"\")#Ajustamos formato\n",
        "\n",
        "\n"
      ],
      "execution_count": 274,
      "outputs": [
        {
          "output_type": "stream",
          "name": "stdout",
          "text": [
            "123456\n",
            "12345\n",
            "1234\n",
            "123\n",
            "12\n",
            "1\n",
            "12\n",
            "123\n",
            "1234\n",
            "12345\n",
            "123456\n"
          ]
        }
      ]
    }
  ]
}