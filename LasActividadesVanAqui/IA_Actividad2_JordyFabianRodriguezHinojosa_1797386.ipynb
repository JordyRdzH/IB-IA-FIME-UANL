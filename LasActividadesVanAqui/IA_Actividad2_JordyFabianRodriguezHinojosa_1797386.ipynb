{
  "nbformat": 4,
  "nbformat_minor": 0,
  "metadata": {
    "colab": {
      "name": "IA_Actividad2_JordyFabianRodriguezHinojosa_1797386.ipynb",
      "provenance": [],
      "collapsed_sections": []
    },
    "kernelspec": {
      "name": "python3",
      "display_name": "Python 3"
    },
    "language_info": {
      "name": "python"
    }
  },
  "cells": [
    {
      "cell_type": "markdown",
      "metadata": {
        "id": "Xt49HlU0KdVZ"
      },
      "source": [
        "# Actividad 2. - Ejercicios de Introducción a Python\n",
        "\n",
        "**Nombre:** Jordy Fabián Rodríguez Hinojosa                \n",
        "**Matrícula:** 1797386\n",
        "\n",
        "> *Inteligencia Artificial Jueves N4-N6*\n",
        "\n",
        "Instrucciones\n",
        "\n",
        "1. La primera celda de su notebook deberá contener el título de la actividad, su nombre, matrícula y hora de clase. \n",
        "2. Para cada ejercicio realizar los comentarios necesarios para entender el funcionamiento de su código. \n",
        "3. Cada celda deberá ser ejecutada antes de guardar su archivo .ipynb.\n",
        "4. La versión final del notebook la guardarán en una carpeta con el nombre  \"LasActividadesVanAqui\" y el nombre de su notebook deberá tener la siguiente estructura: IA_Ejercicio1_Nombre_Matrícula, por ejemplo, \"IA_Ejercicio1_DanielLopez_1234567\".\n",
        "5. Como evidencia a esta actividad, subir un pdf con el link del ejercicio en su repositorio de GitHub.\n",
        "\n",
        "\n",
        "Ejercicio 1:\n",
        "\n",
        "Crear un programa que pregunte al usuario por su nombre, edad, una frase favorita y autor de la frase favorita. El programa deberá de imprimir un mensaje compuesto por el nombre y edad del usuario diciendo que su frase favorita es la que dió anteriormente y el autor de dicha frase es el nombre previamente dado. Aquí habrá que realizar una concatenación de variables. \n",
        "\n",
        "Ejercicio 2:\n",
        "\n",
        "Crear un programa que le pida al usuario capturar dos números enteros y dos números flotantes. Después, realizará la suma, resta, multiplicación y división, de ambos pares de números. Como resultado se deberán de obtener 8 valores. Imprimir todos estos reultados.\n",
        "\n",
        "Ejercicio 3:\n",
        "\n",
        "Crear un programa que evalúe dos expresiones lógicas con `and`, dos con `or` y dos con `not`. Cada expresión deberá hacer uso de operadores de comparación. "
      ]
    },
    {
      "cell_type": "code",
      "metadata": {
        "colab": {
          "base_uri": "https://localhost:8080/"
        },
        "id": "0kpgaWlsL-K8",
        "outputId": "1d54f96b-72df-49f5-bdd6-293042a45fbd"
      },
      "source": [
        "#Ejercicio 1 - Frase y Autor Favorito del Sujeto\n",
        "\n",
        "#Método 1\n",
        "#Primero preguntamos al usuario\n",
        "print (\"Introduzca su nombre y edad: \") #Usamos print para mostrar el mensaje en pantalla preguntar la edad y el nombre del usuario\n",
        "Nombre = input(\"Nombre: \") #Usuario ingresa el nombre\n",
        "Edad = input (\"Edad: \") #Usuario ingresa la edad\n",
        "print (\"Introduzca su frase favorita y el nombre del autor al que se le atribuye: \")#Ahora preguntamos por su frase favorita y el autor\n",
        "Frase = input (\"Frase: \")#Capturamos frase\n",
        "Autor = input (\"Autor: \")#Capturamos autor\n",
        "E1 = \"Su nombres es: \" + Nombre + \". Tiene una edad de: \" + Edad + \". Su frase favorita es: \" + Frase + \" ~ \" + Autor #Concatenamos variables\n",
        "print (E1) #Imprimimos el resultado\n",
        "\n",
        "#Método 2\n",
        "TODO = input(\"Introduzca su nombre: \") + \"-\" #Asignamos una variable y preguntamos por el nombre y añadimos espacio\n",
        "TODO += input(\"Introduzca su edad: \") + \"-años-\" #Concatenamos el input anterior y preguntamos por la edad, que se añade a la variable Todo\n",
        "TODO += input(\"Introduzca su frase favorita: \") + \" ~ \" #De manera semejante, ahora se pregunta por la frase\n",
        "TODO += input(\"Autor: \") #Finalmente se pregunta por el autor\n",
        "print(TODO) #Se imprime la variable con toda la información anteirormente añadida\n"
      ],
      "execution_count": 72,
      "outputs": [
        {
          "output_type": "stream",
          "name": "stdout",
          "text": [
            "Introduzca su nombre y edad: \n",
            "Nombre: Jordy Fabian Rodriguez Hinojosa\n",
            "Edad: 21\n",
            "Introduzca su frase favorita y el nombre del autor al que se le atribuye: \n",
            "Frase: Ars longa vita brevis\n",
            "Autor: Hipócrates\n",
            "Su nombres es: Jordy Fabian Rodriguez Hinojosa. Tiene una edad de: 21. Su frase favorita es: Ars longa vita brevis ~ Hipócrates\n",
            "Introduzca su nombre: Jordy Fabian Rodriguez Hinojosa\n",
            "Introduzca su edad: 21\n",
            "Introduzca su frase favorita: Ars longa vita brevis\n",
            "Autor: Hipócrates\n",
            "Jordy Fabian Rodriguez Hinojosa-21-años-Ars longa vita brevis ~ Hipócrates\n"
          ]
        }
      ]
    },
    {
      "cell_type": "code",
      "metadata": {
        "colab": {
          "base_uri": "https://localhost:8080/"
        },
        "id": "ahwS6vAhQFKN",
        "outputId": "c4f0c192-72ea-4de1-e342-5495f41885a1"
      },
      "source": [
        "#Ejercicio 2 - int, float y operaciones aritméticas\n",
        "\n",
        "#Primero, preguntamos al usuario por los números y los almacenamos en variables\n",
        "\n",
        "Ni1 = int (input(\"Introduzca un número entero: \")) #Capturamos el primer número, dado que es entero lo declaramos como int\n",
        "Ni2 = int (input(\"Introduzca un segundo número entero: \")) #Capturamos el segundo bajo la misma lógica\n",
        "\n",
        "#Imprimimos y realizamos las operaciones aritméticas correspondientes\n",
        "print(\"Suma: \" + str (Ni1+Ni2) + \" \\nResta: \" + str (Ni1-Ni2) + \" \\nMultiplicacion: \"+ str (Ni1*Ni2) + \" \\nDivision: \" + str (Ni1/Ni2))\n",
        "#Se concatenan las variables y se convierten a string para poder realizar la impresión y las operaciones\n",
        "\n",
        "#Ahora para los números flotantes, hacemos algo semejante\n",
        "\n",
        "Nf1 = float (input(\"Introduzca un número flotante \"))\n",
        "Nf2 = float (input(\"Introduzca un segundo número flotante: \"))#Se capturan los números flotantes\n",
        "\n",
        "OP2 = ((Nf1+Nf2),(Nf1-Nf2),(Nf1*Nf2),(Nf1/Nf2)) #Se acomodan las operaciones en una tupla\n",
        "\n",
        "print (\"Suma: %f \\nResta: %f \\nMultiplicación: %f \\nDivisión: %f\" % OP2)#Se imprime con el formato dado\n"
      ],
      "execution_count": 73,
      "outputs": [
        {
          "output_type": "stream",
          "name": "stdout",
          "text": [
            "Introduzca un número entero: 25\n",
            "Introduzca un segundo número entero: 50\n",
            "Suma: 75 \n",
            "Resta: -25 \n",
            "Multiplicacion: 1250 \n",
            "Division: 0.5\n",
            "Introduzca un número flotante 45.5\n",
            "Introduzca un segundo número flotante: 225.25\n",
            "Suma: 270.750000 \n",
            "Resta: -179.750000 \n",
            "Multiplicación: 10248.875000 \n",
            "División: 0.201998\n"
          ]
        }
      ]
    },
    {
      "cell_type": "code",
      "metadata": {
        "colab": {
          "base_uri": "https://localhost:8080/"
        },
        "id": "i9qD9H5plg_U",
        "outputId": "b8af69f0-b22f-4202-ba47-0b6d3b014946"
      },
      "source": [
        "#Ejercicio 3 - Compuertas Lógicas AND, OR y NOT\n",
        "\n",
        "#Primero pedimos dos números al usuario\n",
        "x=float (input(\"Ingrese un número: \"))\n",
        "y=float (input(\"Ingrese otro número: \")) #Se declaran float para admitir números decimales\n",
        "\n",
        "print(x>y and x>=0) #Usamos las compuertas AND para evaluar si un número es mayor que el otro y que cero\n",
        "print(y>x and y>=0)\n",
        "\n",
        "print(x<0 or y<0)#Usamos compuertas OR para evaluar si alguna de las dos es mayor que 0 o menor que 0\n",
        "print(x>0 or y>0)\n",
        "\n",
        "print(not(x>y and x>=0)) #Invertimos los valores lógicos de las dos primeras proposiciones con AND usando NOT\n",
        "print(not(y>x and y>=0))\n",
        "\n"
      ],
      "execution_count": 71,
      "outputs": [
        {
          "output_type": "stream",
          "name": "stdout",
          "text": [
            "Ingrese un número: 53 \n",
            "Ingrese otro número: 102\n",
            "False\n",
            "True\n",
            "False\n",
            "True\n",
            "True\n",
            "False\n"
          ]
        }
      ]
    }
  ]
}