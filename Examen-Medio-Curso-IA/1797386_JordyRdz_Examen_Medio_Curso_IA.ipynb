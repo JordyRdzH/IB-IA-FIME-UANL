{
  "nbformat": 4,
  "nbformat_minor": 0,
  "metadata": {
    "colab": {
      "name": "1797386-JordyRdz-Examen-Medio-Curso-IA.ipynb",
      "provenance": [],
      "collapsed_sections": []
    },
    "kernelspec": {
      "name": "python3",
      "display_name": "Python 3"
    },
    "language_info": {
      "name": "python"
    }
  },
  "cells": [
    {
      "cell_type": "markdown",
      "metadata": {
        "id": "q5QflKftCisM"
      },
      "source": [
        "# IA Examen de Medio Curso\n",
        "*22/09/2021*\n",
        "\n",
        "Jordy Fabián Rodríguez Hinojosa\n",
        "**1797386**\n",
        "\n",
        "\n",
        "1.\n",
        "Desarrollar un código en python para cada uno de los ejercicios:\n",
        "1. Desarrollar un programa que,\n",
        "- Remueva los números pares de la lista:\n",
        "   ex_lista = [10, 15, 17, 21, 22, 34, 37, 40, 45, 52, 66, 68, 81, 84, 91, 94, 102, 105, 109]\n",
        "- Imprima la lista después de remover los números pares. \n",
        "\n",
        "2. Desarrollar un programa que,\n",
        "- Pregunte al usuario por sus 5 películas favoritas (dato tipo string), empezando por la mas favorita y terminando en la posición 5 con la menos favorita. \n",
        "- Almacene estos datos en una lista. \n",
        "- Por último, iterar sobre la lista generada para imprimir 5 oraciones (1 con cada título de película) que digan: \"La película [TÍTULO DE PELÍCULA] está en la posición [índice+1] de mi top 5\". \n",
        "      . TÍTULO DE PELÍCULA: corresponde a los nombres almacenados previamente en su lista. \n",
        "      . Recordatorio: Índice es la posición de un elemento dentro de una lista. "
      ]
    },
    {
      "cell_type": "code",
      "metadata": {
        "colab": {
          "base_uri": "https://localhost:8080/"
        },
        "id": "tLlsZsaSDBq8",
        "outputId": "c5daed8f-d27c-4ff5-b467-2e555234d970"
      },
      "source": [
        "#Ejercicio 1: Remover números pares de una lista\n",
        "\n",
        "#Primero se define la lista\n",
        "\n",
        "ex_lista=[10,15,17,21,22,34,37,40,45,52,66,68,81,84,91,94,102,105,109]\n",
        "\n",
        "#Generamos una nueva lista\n",
        "\n",
        "new_list = list ()\n",
        "\n",
        "for i in ex_lista: #Se navega a través de la lista usando un for\n",
        "  if i%2: #Se usa la opción modulo para identificar el residuo de una división entre dos para identificar los números impares (1 impar y 0 par)\n",
        "    new_list.append(i)#Se añaden solo los números impares a la lista\n",
        "\n",
        "print(new_list) #Imprimimos la nueva lista con los números impares"
      ],
      "execution_count": 76,
      "outputs": [
        {
          "output_type": "stream",
          "name": "stdout",
          "text": [
            "[15, 17, 21, 37, 45, 81, 91, 105, 109]\n"
          ]
        }
      ]
    },
    {
      "cell_type": "code",
      "metadata": {
        "colab": {
          "base_uri": "https://localhost:8080/"
        },
        "id": "Rb3di7IeGm1I",
        "outputId": "762b2692-fb9d-4dba-bb78-2d69364e24a0"
      },
      "source": [
        "#Ejercicio 2: Mis 5 Películas Favoritas\n",
        "\n",
        "#Declaramos nuestra lista Películas\n",
        "\n",
        "Peliculas = list ()\n",
        "\n",
        "#Almacenamos en una lista usando la iteración for y la función input\n",
        "\n",
        "for i in range(1,6): #Definimos el rango de para tener 5 elementos en la lista y no iniciar con i en 0\n",
        "  Peliculas.append(str (input(\"Mi Película Número [%d] es: \" %i))) #Usamos la función .append e input para rellenar la lista\n",
        "\n",
        "for j in Peliculas:#Iteramos para cada uno de los elementos de la lista\n",
        "  print(\"La película titulada '%s' está en la posición %d de mi TOP 5.\" %(j, Peliculas.index(j)+1))\n",
        "  #Imprimimos usando formato de variables y usando la función .index para obtener el índice y le agregamos uno para evitar el 0\n",
        "\n"
      ],
      "execution_count": 77,
      "outputs": [
        {
          "output_type": "stream",
          "name": "stdout",
          "text": [
            "Mi Película Número [1] es: El Pianista\n",
            "Mi Película Número [2] es: El Castillo Ambulante de Howl\n",
            "Mi Película Número [3] es: Sueño de Fuga\n",
            "Mi Película Número [4] es: Se Levanta el Viento\n",
            "Mi Película Número [5] es: Forrest Gump\n",
            "La película titulada 'El Pianista' está en la posición 1 de mi TOP 5.\n",
            "La película titulada 'El Castillo Ambulante de Howl' está en la posición 2 de mi TOP 5.\n",
            "La película titulada 'Sueño de Fuga' está en la posición 3 de mi TOP 5.\n",
            "La película titulada 'Se Levanta el Viento' está en la posición 4 de mi TOP 5.\n",
            "La película titulada 'Forrest Gump' está en la posición 5 de mi TOP 5.\n"
          ]
        }
      ]
    },
    {
      "cell_type": "code",
      "metadata": {
        "id": "z_0XbcaJIXPh"
      },
      "source": [
        ""
      ],
      "execution_count": null,
      "outputs": []
    }
  ]
}